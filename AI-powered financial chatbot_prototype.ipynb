{
  "cells": [
    {
      "cell_type": "markdown",
      "metadata": {
        "id": "view-in-github",
        "colab_type": "text"
      },
      "source": [
        "<a href=\"https://colab.research.google.com/github/PG-2597/BCG_AI-Financial-Chatbot/blob/main/AI-powered%20financial%20chatbot_prototype.ipynb\" target=\"_parent\"><img src=\"https://colab.research.google.com/assets/colab-badge.svg\" alt=\"Open In Colab\"/></a>"
      ]
    },
    {
      "cell_type": "markdown",
      "source": [
        "# Chatbot Prototype"
      ],
      "metadata": {
        "id": "Vjuk713KsIBj"
      }
    },
    {
      "cell_type": "markdown",
      "source": [
        "### Import Necessary Libraries : Import the pandas library for data manipulation"
      ],
      "metadata": {
        "id": "LbBcYpkrsVf9"
      }
    },
    {
      "cell_type": "code",
      "source": [
        "import pandas as pd"
      ],
      "metadata": {
        "id": "iT2Xgst7sj34"
      },
      "execution_count": 20,
      "outputs": []
    },
    {
      "cell_type": "markdown",
      "source": [
        "### Reading the Final data analyzed and summary report from Task 1"
      ],
      "metadata": {
        "id": "Vnxo8nEesshj"
      }
    },
    {
      "cell_type": "code",
      "source": [
        "final_data = pd.read_csv('final_data_analyzed.csv')\n",
        "summary_report = pd.read_csv('Summary_final_report.csv')"
      ],
      "metadata": {
        "id": "KXMz_BLVs6nB"
      },
      "execution_count": 21,
      "outputs": []
    },
    {
      "cell_type": "markdown",
      "source": [
        "### Creating a basic Rule-based Logic AI-Driven Chatbot"
      ],
      "metadata": {
        "id": "ivDS0QXptTZP"
      }
    },
    {
      "cell_type": "code",
      "source": [
        "def simple_chatbot(company, user_query):\n",
        "    if company == \"Apple\":\n",
        "        if user_query == \"What is the total revenue for the latest fiscal year?\":\n",
        "            return \"As of the latest fiscal year, Apple's total revenue is $394.33 billion.\"\n",
        "        elif user_query == \"How has net income changed over the last year?\":\n",
        "            return \"Apple's net income increased by 7.94% from the previous fiscal year.\"\n",
        "        elif user_query == \"What are the total assets as of the latest fiscal year?\":\n",
        "            return \"Apple's total assets are valued at $352.76 billion in the latest fiscal year.\"\n",
        "        elif user_query == \"Can you compare the total liabilities for the latest fiscal year?\":\n",
        "            return \"Apple's total liabilities are $287.91 billion.\"\n",
        "        elif user_query == \"What is the year-over-year change in revenue?\":\n",
        "            return \"Apple's revenue increased by 7.79% year-over-year.\"\n",
        "        elif user_query == \"How has cash flow from operating activities changed over the past three years?\":\n",
        "            return \"Apple's cash flow from operating activities has been consistent, with slight increases.\"\n",
        "        elif user_query == \"What is the net income for the past three fiscal years?\":\n",
        "            return \"Apple's net income for the past three fiscal years is $94.68 billion, $87.92 billion, and $81.82 billion.\"\n",
        "        elif user_query == \"Can you show the trend of total revenue over the last three years?\":\n",
        "            return \"Apple's total revenue has increased from $274.52 billion to $394.33 billion over the past three years.\"\n",
        "        elif user_query == \"What is the percentage change in total assets from the previous year?\":\n",
        "            return \"Apple's total assets increased by 5.27% from the previous fiscal year.\"\n",
        "        elif user_query == \"How does the total liabilities compare to others for the latest fiscal year?\":\n",
        "            return \"Apple's total liabilities ($287.91 billion) are higher compared to Microsoft and Tesla.\"\n",
        "    elif company == \"Microsoft\":\n",
        "        if user_query == \"What is the total revenue for the latest fiscal year?\":\n",
        "            return \"As of the latest fiscal year, Microsoft's total revenue is $211.91 billion.\"\n",
        "        elif user_query == \"How has net income changed over the last year?\":\n",
        "            return \"Microsoft's net income increased by 5.9% from the previous fiscal year.\"\n",
        "        elif user_query == \"What are the total assets as of the latest fiscal year?\":\n",
        "            return \"Microsoft's total assets are valued at $411.78 billion in the latest fiscal year.\"\n",
        "        elif user_query == \"Can you compare the total liabilities for the latest fiscal year?\":\n",
        "            return \"Microsoft's total liabilities are $198.72 billion.\"\n",
        "        elif user_query == \"What is the year-over-year change in revenue?\":\n",
        "            return \"Microsoft's revenue increased by 8.23% year-over-year.\"\n",
        "        elif user_query == \"How has cash flow from operating activities changed over the past three years?\":\n",
        "            return \"Microsoft's cash flow from operating activities has shown steady growth.\"\n",
        "        elif user_query == \"What is the net income for the past three fiscal years?\":\n",
        "            return \"Microsoft's net income for the past three fiscal years is $72.74 billion, $68.72 billion, and $61.27 billion.\"\n",
        "        elif user_query == \"Can you show the trend of total revenue over the last three years?\":\n",
        "            return \"Microsoft's total revenue has increased from $168.09 billion to $211.91 billion over the past three years.\"\n",
        "        elif user_query == \"What is the percentage change in total assets from the previous year?\":\n",
        "            return \"Microsoft's total assets increased by 4.12% from the previous fiscal year.\"\n",
        "        elif user_query == \"How does the total liabilities compare to others for the latest fiscal year?\":\n",
        "            return \"Microsoft's total liabilities ($198.72 billion) are lower than Apple's but higher than Tesla's.\"\n",
        "    elif company == \"Tesla\":\n",
        "        if user_query == \"What is the total revenue for the latest fiscal year?\":\n",
        "            return \"As of the latest fiscal year, Tesla's total revenue is $81.46 billion.\"\n",
        "        elif user_query == \"How has net income changed over the last year?\":\n",
        "            return \"Tesla's net income increased significantly over the last year, turning positive.\"\n",
        "        elif user_query == \"What are the total assets as of the latest fiscal year?\":\n",
        "            return \"Tesla's total assets are valued at $82.32 billion in the latest fiscal year.\"\n",
        "        elif user_query == \"Can you compare the total liabilities for the latest fiscal year?\":\n",
        "            return \"Tesla's total liabilities are $40.51 billion.\"\n",
        "        elif user_query == \"What is the year-over-year change in revenue?\":\n",
        "            return \"Tesla's revenue increased by 41.67% year-over-year.\"\n",
        "        elif user_query == \"How has cash flow from operating activities changed over the past three years?\":\n",
        "            return \"Tesla's cash flow from operating activities has increased steadily, reaching $14.72 billion.\"\n",
        "        elif user_query == \"What is the net income for the past three fiscal years?\":\n",
        "            return \"Tesla's net income for the past three fiscal years shows significant improvement, with the latest fiscal year turning positive.\"\n",
        "        elif user_query == \"Can you show the trend of total revenue over the last three years?\":\n",
        "            return \"Tesla's total revenue has increased from $31.54 billion to $81.46 billion over the past three years.\"\n",
        "        elif user_query == \"What is the percentage change in total assets from the previous year?\":\n",
        "            return \"Tesla's total assets increased by 24.23% from the previous fiscal year.\"\n",
        "        elif user_query == \"How does the total liabilities compare to others for the latest fiscal year?\":\n",
        "            return \"Tesla's total liabilities ($40.51 billion) are significantly lower compared to Apple and Microsoft.\"\n",
        "    else:\n",
        "        return \"Sorry, I can only provide information on Apple, Microsoft, and Tesla.\"\n",
        "\n",
        "# Command-line interaction\n",
        "def main():\n",
        "    print(\"Hi! Welcome to the Financial Chatbot.\")\n",
        "\n",
        "    while True:\n",
        "        print(\"Please select a company to get financial information for:\")\n",
        "        print(\"1. Apple\")\n",
        "        print(\"2. Microsoft\")\n",
        "        print(\"3. Tesla\")\n",
        "\n",
        "        company_choice = input(\"Enter the number corresponding to your choice: \")\n",
        "\n",
        "        if company_choice == \"1\":\n",
        "            company = \"Apple\"\n",
        "        elif company_choice == \"2\":\n",
        "            company = \"Microsoft\"\n",
        "        elif company_choice == \"3\":\n",
        "            company = \"Tesla\"\n",
        "        else:\n",
        "            print(\"Invalid choice. Please restart the program and choose a valid option.\")\n",
        "            continue\n",
        "\n",
        "        print(\"\\nYou selected:\", company)\n",
        "        print(\"\\nYou can ask any financial query from the below list of predefined queries:\")\n",
        "        print(\"1. What is the total revenue for the latest fiscal year?\")\n",
        "        print(\"2. How has net income changed over the last year?\")\n",
        "        print(\"3. What are the total assets as of the latest fiscal year?\")\n",
        "        print(\"4. Can you compare the total liabilities for the latest fiscal year?\")\n",
        "        print(\"5. What is the year-over-year change in revenue?\")\n",
        "        print(\"6. How has cash flow from operating activities changed over the past three years?\")\n",
        "        print(\"7. What is the net income for the past three fiscal years?\")\n",
        "        print(\"8. Can you show the trend of total revenue over the last three years?\")\n",
        "        print(\"9. What is the percentage change in total assets from the previous year?\")\n",
        "        print(\"10. How does the total liabilities compare to others for the latest fiscal year?\")\n",
        "\n",
        "        user_query = input(\"Enter the number corresponding to your query: \")\n",
        "\n",
        "        predefined_queries = {\n",
        "            \"1\": \"What is the total revenue for the latest fiscal year?\",\n",
        "            \"2\": \"How has net income changed over the last year?\",\n",
        "            \"3\": \"What are the total assets as of the latest fiscal year?\",\n",
        "            \"4\": \"Can you compare the total liabilities for the latest fiscal year?\",\n",
        "            \"5\": \"What is the year-over-year change in revenue?\",\n",
        "            \"6\": \"How has cash flow from operating activities changed over the past three years?\",\n",
        "            \"7\": \"What is the net income for the past three fiscal years?\",\n",
        "            \"8\": \"Can you show the trend of total revenue over the last three years?\",\n",
        "            \"9\": \"What is the percentage change in total assets from the previous year?\",\n",
        "            \"10\": \"How does the total liabilities compare to others for the latest fiscal year?\"\n",
        "        }\n",
        "\n",
        "        if user_query in predefined_queries:\n",
        "            response = simple_chatbot(company, predefined_queries[user_query])\n",
        "            print(response)\n",
        "        else:\n",
        "            print(\"Invalid query. Please restart the program and choose a valid query.\")\n",
        "\n",
        "        another_query = input(\"Do you want to ask another question? (yes/no): \")\n",
        "        if another_query.lower() != \"yes\":\n",
        "            print(\"Goodbye!\")\n",
        "            break\n",
        "main()\n"
      ],
      "metadata": {
        "id": "71klRvjDvLzS",
        "outputId": "0d27d8f1-5dbb-499a-f992-3cd577669e5e",
        "colab": {
          "base_uri": "https://localhost:8080/"
        }
      },
      "execution_count": 25,
      "outputs": [
        {
          "output_type": "stream",
          "name": "stdout",
          "text": [
            "Hi! Welcome to the Financial Chatbot.\n",
            "Please select a company to get financial information for:\n",
            "1. Apple\n",
            "2. Microsoft\n",
            "3. Tesla\n",
            "Enter the number corresponding to your choice: 1\n",
            "\n",
            "You selected: Apple\n",
            "\n",
            "You can ask any financial query from the below list of predefined queries:\n",
            "1. What is the total revenue for the latest fiscal year?\n",
            "2. How has net income changed over the last year?\n",
            "3. What are the total assets as of the latest fiscal year?\n",
            "4. Can you compare the total liabilities for the latest fiscal year?\n",
            "5. What is the year-over-year change in revenue?\n",
            "6. How has cash flow from operating activities changed over the past three years?\n",
            "7. What is the net income for the past three fiscal years?\n",
            "8. Can you show the trend of total revenue over the last three years?\n",
            "9. What is the percentage change in total assets from the previous year?\n",
            "10. How does the total liabilities compare to others for the latest fiscal year?\n",
            "Enter the number corresponding to your query: 6\n",
            "Apple's cash flow from operating activities has been consistent, with slight increases.\n",
            "Do you want to ask another question? (yes/no): yes\n",
            "Please select a company to get financial information for:\n",
            "1. Apple\n",
            "2. Microsoft\n",
            "3. Tesla\n",
            "Enter the number corresponding to your choice: 3\n",
            "\n",
            "You selected: Tesla\n",
            "\n",
            "You can ask any financial query from the below list of predefined queries:\n",
            "1. What is the total revenue for the latest fiscal year?\n",
            "2. How has net income changed over the last year?\n",
            "3. What are the total assets as of the latest fiscal year?\n",
            "4. Can you compare the total liabilities for the latest fiscal year?\n",
            "5. What is the year-over-year change in revenue?\n",
            "6. How has cash flow from operating activities changed over the past three years?\n",
            "7. What is the net income for the past three fiscal years?\n",
            "8. Can you show the trend of total revenue over the last three years?\n",
            "9. What is the percentage change in total assets from the previous year?\n",
            "10. How does the total liabilities compare to others for the latest fiscal year?\n",
            "Enter the number corresponding to your query: 2\n",
            "Tesla's net income increased significantly over the last year, turning positive.\n",
            "Do you want to ask another question? (yes/no): no\n",
            "Goodbye!\n"
          ]
        }
      ]
    }
  ],
  "metadata": {
    "colab": {
      "name": "Welcome To Colab",
      "provenance": [],
      "include_colab_link": true
    },
    "kernelspec": {
      "display_name": "Python 3",
      "name": "python3"
    }
  },
  "nbformat": 4,
  "nbformat_minor": 0
}